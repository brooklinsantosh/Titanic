{
  "nbformat": 4,
  "nbformat_minor": 0,
  "metadata": {
    "colab": {
      "name": "Titanic Survivor Prediction.ipynb",
      "provenance": [],
      "collapsed_sections": []
    },
    "kernelspec": {
      "name": "python3",
      "display_name": "Python 3"
    }
  },
  "cells": [
    {
      "cell_type": "code",
      "metadata": {
        "colab": {
          "base_uri": "https://localhost:8080/"
        },
        "id": "-zlTjwKxzUnZ",
        "outputId": "34d433a4-ee9c-4986-c8b5-0fd1af6f44e9"
      },
      "source": [
        "from google.colab import drive\n",
        "drive.mount('/content/gdrive')"
      ],
      "execution_count": 1,
      "outputs": [
        {
          "output_type": "stream",
          "text": [
            "Mounted at /content/gdrive\n"
          ],
          "name": "stdout"
        }
      ]
    },
    {
      "cell_type": "code",
      "metadata": {
        "colab": {
          "base_uri": "https://localhost:8080/"
        },
        "id": "QyC58LDozckk",
        "outputId": "c585479e-5cdc-4c88-ac92-464b01f4657a"
      },
      "source": [
        "%cd /content/gdrive/MyDrive/Kaggle/Titanic"
      ],
      "execution_count": 2,
      "outputs": [
        {
          "output_type": "stream",
          "text": [
            "/content/gdrive/MyDrive/Kaggle/Titanic\n"
          ],
          "name": "stdout"
        }
      ]
    },
    {
      "cell_type": "code",
      "metadata": {
        "id": "YOXi074c0HTV"
      },
      "source": [
        "import os\n",
        "os.environ['KAGGLE_CONFIG_DIR'] = \"/content/gdrive/My Drive/Kaggle\""
      ],
      "execution_count": 3,
      "outputs": []
    },
    {
      "cell_type": "code",
      "metadata": {
        "colab": {
          "base_uri": "https://localhost:8080/"
        },
        "id": "mnOdDD-80K7G",
        "outputId": "314607a6-67ca-4eaf-fb27-bc89c53eb029"
      },
      "source": [
        "!kaggle competitions download -c titanic"
      ],
      "execution_count": 4,
      "outputs": [
        {
          "output_type": "stream",
          "text": [
            "Warning: Looks like you're using an outdated API Version, please consider updating (server 1.5.10 / client 1.5.4)\n",
            "Downloading train.csv to /content/gdrive/My Drive/Kaggle/Titanic\n",
            "  0% 0.00/59.8k [00:00<?, ?B/s]\n",
            "100% 59.8k/59.8k [00:00<00:00, 9.11MB/s]\n",
            "Downloading gender_submission.csv to /content/gdrive/My Drive/Kaggle/Titanic\n",
            "  0% 0.00/3.18k [00:00<?, ?B/s]\n",
            "100% 3.18k/3.18k [00:00<00:00, 451kB/s]\n",
            "Downloading test.csv to /content/gdrive/My Drive/Kaggle/Titanic\n",
            "  0% 0.00/28.0k [00:00<?, ?B/s]\n",
            "100% 28.0k/28.0k [00:00<00:00, 3.97MB/s]\n"
          ],
          "name": "stdout"
        }
      ]
    },
    {
      "cell_type": "code",
      "metadata": {
        "id": "6jq7vjbf0Qk3"
      },
      "source": [
        "import numpy as np\n",
        "import pandas as pd\n",
        "import matplotlib.pyplot as plt\n",
        "import seaborn as sns\n",
        "from sklearn.preprocessing import LabelEncoder\n",
        "\n",
        "# Modeling\n",
        "from sklearn.model_selection import train_test_split\n",
        "\n",
        "from sklearn.neighbors import KNeighborsClassifier\n",
        "from sklearn.svm import SVC\n",
        "from sklearn.tree import DecisionTreeClassifier\n",
        "from sklearn.ensemble import RandomForestClassifier, AdaBoostClassifier, GradientBoostingClassifier\n",
        "from sklearn.naive_bayes import GaussianNB\n",
        "from sklearn.discriminant_analysis import LinearDiscriminantAnalysis, QuadraticDiscriminantAnalysis\n",
        "from sklearn.linear_model import LogisticRegression\n",
        "\n",
        "from sklearn.metrics import roc_auc_score\n",
        "\n",
        "from sklearn.model_selection import RandomizedSearchCV\n",
        "from collections import Counter"
      ],
      "execution_count": 6,
      "outputs": []
    },
    {
      "cell_type": "code",
      "metadata": {
        "colab": {
          "base_uri": "https://localhost:8080/",
          "height": 705
        },
        "id": "08z7sbLF0X7z",
        "outputId": "b43ecbc6-232f-4823-d335-b7c29a1cba5e"
      },
      "source": [
        "#Loading Dataset\n",
        "\n",
        "train=pd.read_csv('train.csv')  # Loading the train dataset\n",
        "test=pd.read_csv('test.csv')    # Loading the test dataset\n",
        "\n",
        "target=train['Survived']\n",
        "\n",
        "#detect outliers\n",
        "\n",
        "def detect_outlier(df,n,cols):\n",
        "    outlier_indices = []\n",
        "    for i in cols:\n",
        "        Q1 = np.percentile(df[i], 25)\n",
        "        Q3 = np.percentile(df[i], 75)\n",
        "        IQR = Q3 - Q1\n",
        "        outlier_step = 1.5*IQR\n",
        "        outlier_index_list = df[(df[i] < Q1-outlier_step) | (df[i] > Q3+outlier_step)].index\n",
        "        outlier_indices.extend(outlier_index_list)\n",
        "    outlier_indices = Counter(outlier_indices)\n",
        "    multiple_outliers = list(k for k,v in outlier_indices.items() if v>n)  \n",
        "    return multiple_outliers\n",
        "\n",
        "outliers_to_drop = detect_outlier(train,3,['Age', 'SibSp', 'Parch', 'Fare'])\n",
        "train = train.drop(outliers_to_drop, axis = 0).reset_index(drop=True)\n",
        "\n",
        "#Basic info about the dataset\n",
        "\n",
        "print('Shape of train dataset:-',train.shape)\n",
        "print('Shape of test dataset:-' ,test.shape)\n",
        "\n",
        "#Info about datatype and statistical model\n",
        "\n",
        "print('\\n')\n",
        "print(train.info())\n",
        "train.describe()\n"
      ],
      "execution_count": 7,
      "outputs": [
        {
          "output_type": "stream",
          "text": [
            "Shape of train dataset:- (891, 12)\n",
            "Shape of test dataset:- (418, 11)\n",
            "\n",
            "\n",
            "<class 'pandas.core.frame.DataFrame'>\n",
            "RangeIndex: 891 entries, 0 to 890\n",
            "Data columns (total 12 columns):\n",
            " #   Column       Non-Null Count  Dtype  \n",
            "---  ------       --------------  -----  \n",
            " 0   PassengerId  891 non-null    int64  \n",
            " 1   Survived     891 non-null    int64  \n",
            " 2   Pclass       891 non-null    int64  \n",
            " 3   Name         891 non-null    object \n",
            " 4   Sex          891 non-null    object \n",
            " 5   Age          714 non-null    float64\n",
            " 6   SibSp        891 non-null    int64  \n",
            " 7   Parch        891 non-null    int64  \n",
            " 8   Ticket       891 non-null    object \n",
            " 9   Fare         891 non-null    float64\n",
            " 10  Cabin        204 non-null    object \n",
            " 11  Embarked     889 non-null    object \n",
            "dtypes: float64(2), int64(5), object(5)\n",
            "memory usage: 83.7+ KB\n",
            "None\n"
          ],
          "name": "stdout"
        },
        {
          "output_type": "execute_result",
          "data": {
            "text/html": [
              "<div>\n",
              "<style scoped>\n",
              "    .dataframe tbody tr th:only-of-type {\n",
              "        vertical-align: middle;\n",
              "    }\n",
              "\n",
              "    .dataframe tbody tr th {\n",
              "        vertical-align: top;\n",
              "    }\n",
              "\n",
              "    .dataframe thead th {\n",
              "        text-align: right;\n",
              "    }\n",
              "</style>\n",
              "<table border=\"1\" class=\"dataframe\">\n",
              "  <thead>\n",
              "    <tr style=\"text-align: right;\">\n",
              "      <th></th>\n",
              "      <th>PassengerId</th>\n",
              "      <th>Survived</th>\n",
              "      <th>Pclass</th>\n",
              "      <th>Age</th>\n",
              "      <th>SibSp</th>\n",
              "      <th>Parch</th>\n",
              "      <th>Fare</th>\n",
              "    </tr>\n",
              "  </thead>\n",
              "  <tbody>\n",
              "    <tr>\n",
              "      <th>count</th>\n",
              "      <td>891.000000</td>\n",
              "      <td>891.000000</td>\n",
              "      <td>891.000000</td>\n",
              "      <td>714.000000</td>\n",
              "      <td>891.000000</td>\n",
              "      <td>891.000000</td>\n",
              "      <td>891.000000</td>\n",
              "    </tr>\n",
              "    <tr>\n",
              "      <th>mean</th>\n",
              "      <td>446.000000</td>\n",
              "      <td>0.383838</td>\n",
              "      <td>2.308642</td>\n",
              "      <td>29.699118</td>\n",
              "      <td>0.523008</td>\n",
              "      <td>0.381594</td>\n",
              "      <td>32.204208</td>\n",
              "    </tr>\n",
              "    <tr>\n",
              "      <th>std</th>\n",
              "      <td>257.353842</td>\n",
              "      <td>0.486592</td>\n",
              "      <td>0.836071</td>\n",
              "      <td>14.526497</td>\n",
              "      <td>1.102743</td>\n",
              "      <td>0.806057</td>\n",
              "      <td>49.693429</td>\n",
              "    </tr>\n",
              "    <tr>\n",
              "      <th>min</th>\n",
              "      <td>1.000000</td>\n",
              "      <td>0.000000</td>\n",
              "      <td>1.000000</td>\n",
              "      <td>0.420000</td>\n",
              "      <td>0.000000</td>\n",
              "      <td>0.000000</td>\n",
              "      <td>0.000000</td>\n",
              "    </tr>\n",
              "    <tr>\n",
              "      <th>25%</th>\n",
              "      <td>223.500000</td>\n",
              "      <td>0.000000</td>\n",
              "      <td>2.000000</td>\n",
              "      <td>20.125000</td>\n",
              "      <td>0.000000</td>\n",
              "      <td>0.000000</td>\n",
              "      <td>7.910400</td>\n",
              "    </tr>\n",
              "    <tr>\n",
              "      <th>50%</th>\n",
              "      <td>446.000000</td>\n",
              "      <td>0.000000</td>\n",
              "      <td>3.000000</td>\n",
              "      <td>28.000000</td>\n",
              "      <td>0.000000</td>\n",
              "      <td>0.000000</td>\n",
              "      <td>14.454200</td>\n",
              "    </tr>\n",
              "    <tr>\n",
              "      <th>75%</th>\n",
              "      <td>668.500000</td>\n",
              "      <td>1.000000</td>\n",
              "      <td>3.000000</td>\n",
              "      <td>38.000000</td>\n",
              "      <td>1.000000</td>\n",
              "      <td>0.000000</td>\n",
              "      <td>31.000000</td>\n",
              "    </tr>\n",
              "    <tr>\n",
              "      <th>max</th>\n",
              "      <td>891.000000</td>\n",
              "      <td>1.000000</td>\n",
              "      <td>3.000000</td>\n",
              "      <td>80.000000</td>\n",
              "      <td>8.000000</td>\n",
              "      <td>6.000000</td>\n",
              "      <td>512.329200</td>\n",
              "    </tr>\n",
              "  </tbody>\n",
              "</table>\n",
              "</div>"
            ],
            "text/plain": [
              "       PassengerId    Survived      Pclass  ...       SibSp       Parch        Fare\n",
              "count   891.000000  891.000000  891.000000  ...  891.000000  891.000000  891.000000\n",
              "mean    446.000000    0.383838    2.308642  ...    0.523008    0.381594   32.204208\n",
              "std     257.353842    0.486592    0.836071  ...    1.102743    0.806057   49.693429\n",
              "min       1.000000    0.000000    1.000000  ...    0.000000    0.000000    0.000000\n",
              "25%     223.500000    0.000000    2.000000  ...    0.000000    0.000000    7.910400\n",
              "50%     446.000000    0.000000    3.000000  ...    0.000000    0.000000   14.454200\n",
              "75%     668.500000    1.000000    3.000000  ...    1.000000    0.000000   31.000000\n",
              "max     891.000000    1.000000    3.000000  ...    8.000000    6.000000  512.329200\n",
              "\n",
              "[8 rows x 7 columns]"
            ]
          },
          "metadata": {
            "tags": []
          },
          "execution_count": 7
        }
      ]
    },
    {
      "cell_type": "code",
      "metadata": {
        "colab": {
          "base_uri": "https://localhost:8080/",
          "height": 255
        },
        "id": "vIP9-6Ct0ixv",
        "outputId": "67b9fdc9-646e-4db3-c7c9-8b1e92b7b31a"
      },
      "source": [
        "total=pd.concat([train.drop('Survived',axis=1),test])\n",
        "target=train['Survived']\n",
        "\n",
        "total.head()"
      ],
      "execution_count": 8,
      "outputs": [
        {
          "output_type": "execute_result",
          "data": {
            "text/html": [
              "<div>\n",
              "<style scoped>\n",
              "    .dataframe tbody tr th:only-of-type {\n",
              "        vertical-align: middle;\n",
              "    }\n",
              "\n",
              "    .dataframe tbody tr th {\n",
              "        vertical-align: top;\n",
              "    }\n",
              "\n",
              "    .dataframe thead th {\n",
              "        text-align: right;\n",
              "    }\n",
              "</style>\n",
              "<table border=\"1\" class=\"dataframe\">\n",
              "  <thead>\n",
              "    <tr style=\"text-align: right;\">\n",
              "      <th></th>\n",
              "      <th>PassengerId</th>\n",
              "      <th>Pclass</th>\n",
              "      <th>Name</th>\n",
              "      <th>Sex</th>\n",
              "      <th>Age</th>\n",
              "      <th>SibSp</th>\n",
              "      <th>Parch</th>\n",
              "      <th>Ticket</th>\n",
              "      <th>Fare</th>\n",
              "      <th>Cabin</th>\n",
              "      <th>Embarked</th>\n",
              "    </tr>\n",
              "  </thead>\n",
              "  <tbody>\n",
              "    <tr>\n",
              "      <th>0</th>\n",
              "      <td>1</td>\n",
              "      <td>3</td>\n",
              "      <td>Braund, Mr. Owen Harris</td>\n",
              "      <td>male</td>\n",
              "      <td>22.0</td>\n",
              "      <td>1</td>\n",
              "      <td>0</td>\n",
              "      <td>A/5 21171</td>\n",
              "      <td>7.2500</td>\n",
              "      <td>NaN</td>\n",
              "      <td>S</td>\n",
              "    </tr>\n",
              "    <tr>\n",
              "      <th>1</th>\n",
              "      <td>2</td>\n",
              "      <td>1</td>\n",
              "      <td>Cumings, Mrs. John Bradley (Florence Briggs Th...</td>\n",
              "      <td>female</td>\n",
              "      <td>38.0</td>\n",
              "      <td>1</td>\n",
              "      <td>0</td>\n",
              "      <td>PC 17599</td>\n",
              "      <td>71.2833</td>\n",
              "      <td>C85</td>\n",
              "      <td>C</td>\n",
              "    </tr>\n",
              "    <tr>\n",
              "      <th>2</th>\n",
              "      <td>3</td>\n",
              "      <td>3</td>\n",
              "      <td>Heikkinen, Miss. Laina</td>\n",
              "      <td>female</td>\n",
              "      <td>26.0</td>\n",
              "      <td>0</td>\n",
              "      <td>0</td>\n",
              "      <td>STON/O2. 3101282</td>\n",
              "      <td>7.9250</td>\n",
              "      <td>NaN</td>\n",
              "      <td>S</td>\n",
              "    </tr>\n",
              "    <tr>\n",
              "      <th>3</th>\n",
              "      <td>4</td>\n",
              "      <td>1</td>\n",
              "      <td>Futrelle, Mrs. Jacques Heath (Lily May Peel)</td>\n",
              "      <td>female</td>\n",
              "      <td>35.0</td>\n",
              "      <td>1</td>\n",
              "      <td>0</td>\n",
              "      <td>113803</td>\n",
              "      <td>53.1000</td>\n",
              "      <td>C123</td>\n",
              "      <td>S</td>\n",
              "    </tr>\n",
              "    <tr>\n",
              "      <th>4</th>\n",
              "      <td>5</td>\n",
              "      <td>3</td>\n",
              "      <td>Allen, Mr. William Henry</td>\n",
              "      <td>male</td>\n",
              "      <td>35.0</td>\n",
              "      <td>0</td>\n",
              "      <td>0</td>\n",
              "      <td>373450</td>\n",
              "      <td>8.0500</td>\n",
              "      <td>NaN</td>\n",
              "      <td>S</td>\n",
              "    </tr>\n",
              "  </tbody>\n",
              "</table>\n",
              "</div>"
            ],
            "text/plain": [
              "   PassengerId  Pclass  ... Cabin Embarked\n",
              "0            1       3  ...   NaN        S\n",
              "1            2       1  ...   C85        C\n",
              "2            3       3  ...   NaN        S\n",
              "3            4       1  ...  C123        S\n",
              "4            5       3  ...   NaN        S\n",
              "\n",
              "[5 rows x 11 columns]"
            ]
          },
          "metadata": {
            "tags": []
          },
          "execution_count": 8
        }
      ]
    },
    {
      "cell_type": "markdown",
      "metadata": {
        "id": "gjKVHHJl0qm-"
      },
      "source": [
        "# EDA"
      ]
    },
    {
      "cell_type": "code",
      "metadata": {
        "colab": {
          "base_uri": "https://localhost:8080/",
          "height": 286
        },
        "id": "CkiHaPee0nxl",
        "outputId": "38758c27-3676-4e7d-bef2-f92f6a417b4f"
      },
      "source": [
        "sns.heatmap(total.drop('PassengerId',axis=1).corr(),annot=True)"
      ],
      "execution_count": 9,
      "outputs": [
        {
          "output_type": "execute_result",
          "data": {
            "text/plain": [
              "<matplotlib.axes._subplots.AxesSubplot at 0x7f92b4039eb8>"
            ]
          },
          "metadata": {
            "tags": []
          },
          "execution_count": 9
        },
        {
          "output_type": "display_data",
          "data": {
            "image/png": "[encoded data removed]",
            "text/plain": [
              "<Figure size 432x288 with 2 Axes>"
            ]
          },
          "metadata": {
            "tags": [],
            "needs_background": "light"
          }
        }
      ]
    },
    {
      "cell_type": "code",
      "metadata": {
        "colab": {
          "base_uri": "https://localhost:8080/",
          "height": 553
        },
        "id": "MFWJPGEn0tvJ",
        "outputId": "d774ecbe-f1bd-4d21-c8b9-d7809cabc957"
      },
      "source": [
        "sns.catplot(x='Pclass',y='Survived',data=train,kind='bar',hue='Sex')\n",
        "print(train.groupby(['Pclass','Sex'])['Survived'].mean()*100,'\\n','\\nIf women is from 1st and 2nd class then it has a lot chance to survive about 92%')"
      ],
      "execution_count": 10,
      "outputs": [
        {
          "output_type": "stream",
          "text": [
            "Pclass  Sex   \n",
            "1       female    96.808511\n",
            "        male      36.885246\n",
            "2       female    92.105263\n",
            "        male      15.740741\n",
            "3       female    50.000000\n",
            "        male      13.544669\n",
            "Name: Survived, dtype: float64 \n",
            " \n",
            "If women is from 1st and 2nd class then it has a lot chance to survive about 92%\n"
          ],
          "name": "stdout"
        },
        {
          "output_type": "display_data",
          "data": {
            "image/png": "[encoded data removed]",
            "text/plain": [
              "<Figure size 430.5x360 with 1 Axes>"
            ]
          },
          "metadata": {
            "tags": [],
            "needs_background": "light"
          }
        }
      ]
    },
    {
      "cell_type": "code",
      "metadata": {
        "colab": {
          "base_uri": "https://localhost:8080/",
          "height": 893
        },
        "id": "dazcP31o0wsA",
        "outputId": "55036979-22ca-4c8e-952e-4ae619de98eb"
      },
      "source": [
        "sns.catplot(x='Embarked',y='Survived',data=train,kind='bar',hue='Sex')\n",
        "print(train.groupby(['Embarked','Sex'])['Survived'].mean())\n",
        "print(train.groupby(['Embarked','Sex','Pclass'])['Survived'].mean())\n",
        "print('If a female is from Southmpton it has 87% chance of survival and\\n if she is from Q it has 75% chance of survival')\n"
      ],
      "execution_count": 11,
      "outputs": [
        {
          "output_type": "stream",
          "text": [
            "Embarked  Sex   \n",
            "C         female    0.876712\n",
            "          male      0.305263\n",
            "Q         female    0.750000\n",
            "          male      0.073171\n",
            "S         female    0.689655\n",
            "          male      0.174603\n",
            "Name: Survived, dtype: float64\n",
            "Embarked  Sex     Pclass\n",
            "C         female  1         0.976744\n",
            "                  2         1.000000\n",
            "                  3         0.652174\n",
            "          male    1         0.404762\n",
            "                  2         0.200000\n",
            "                  3         0.232558\n",
            "Q         female  1         1.000000\n",
            "                  2         1.000000\n",
            "                  3         0.727273\n",
            "          male    1         0.000000\n",
            "                  2         0.000000\n",
            "                  3         0.076923\n",
            "S         female  1         0.958333\n",
            "                  2         0.910448\n",
            "                  3         0.375000\n",
            "          male    1         0.354430\n",
            "                  2         0.154639\n",
            "                  3         0.128302\n",
            "Name: Survived, dtype: float64\n",
            "If a female is from Southmpton it has 87% chance of survival and\n",
            " if she is from Q it has 75% chance of survival\n"
          ],
          "name": "stdout"
        },
        {
          "output_type": "display_data",
          "data": {
            "image/png": "[encoded data removed]",
            "text/plain": [
              "<Figure size 430.5x360 with 1 Axes>"
            ]
          },
          "metadata": {
            "tags": [],
            "needs_background": "light"
          }
        }
      ]
    },
    {
      "cell_type": "code",
      "metadata": {
        "colab": {
          "base_uri": "https://localhost:8080/",
          "height": 570
        },
        "id": "SGIlHTnZ01Od",
        "outputId": "9d0212c5-345b-42d6-ff5e-8894b152d641"
      },
      "source": [
        "sns.catplot(x='SibSp',y='Survived',data=train,kind='bar')\n",
        "print(train.groupby('SibSp')['Survived'].mean(),'\\n\\nFamily with more than 2 sibling has less chance to survive')"
      ],
      "execution_count": 12,
      "outputs": [
        {
          "output_type": "stream",
          "text": [
            "SibSp\n",
            "0    0.345395\n",
            "1    0.535885\n",
            "2    0.464286\n",
            "3    0.250000\n",
            "4    0.166667\n",
            "5    0.000000\n",
            "8    0.000000\n",
            "Name: Survived, dtype: float64 \n",
            "\n",
            "Family with more than 2 sibling has less chance to survive\n"
          ],
          "name": "stdout"
        },
        {
          "output_type": "display_data",
          "data": {
            "image/png": "[encoded data removed]",
            "text/plain": [
              "<Figure size 360x360 with 1 Axes>"
            ]
          },
          "metadata": {
            "tags": [],
            "needs_background": "light"
          }
        }
      ]
    },
    {
      "cell_type": "code",
      "metadata": {
        "colab": {
          "base_uri": "https://localhost:8080/"
        },
        "id": "eSOPCCYI04VO",
        "outputId": "ce11dd4c-439f-404d-f573-4f4aad3ecc78"
      },
      "source": [
        "print(train['Age'].describe())"
      ],
      "execution_count": 13,
      "outputs": [
        {
          "output_type": "stream",
          "text": [
            "count    714.000000\n",
            "mean      29.699118\n",
            "std       14.526497\n",
            "min        0.420000\n",
            "25%       20.125000\n",
            "50%       28.000000\n",
            "75%       38.000000\n",
            "max       80.000000\n",
            "Name: Age, dtype: float64\n"
          ],
          "name": "stdout"
        }
      ]
    },
    {
      "cell_type": "markdown",
      "metadata": {
        "id": "r5JzZOhK08q8"
      },
      "source": [
        "# Feature Manupulation and Extraction"
      ]
    },
    {
      "cell_type": "code",
      "metadata": {
        "colab": {
          "base_uri": "https://localhost:8080/"
        },
        "id": "64DimZjj06V-",
        "outputId": "97062770-e17b-477d-a943-24469c643576"
      },
      "source": [
        "print(total.isnull().sum())\n",
        "\n",
        "total['Age'] = total.groupby('Pclass')['Age'].transform(lambda x: x.fillna(x.median()))  #removing null value of Age with help of pclass\n",
        "total['Fare'] = total.groupby('Pclass')['Fare'].transform(lambda x: x.fillna(x.median())) #removing null value of Fare with help of pclass\n",
        "total['Embarked'].fillna('S',inplace=True) "
      ],
      "execution_count": 14,
      "outputs": [
        {
          "output_type": "stream",
          "text": [
            "PassengerId       0\n",
            "Pclass            0\n",
            "Name              0\n",
            "Sex               0\n",
            "Age             263\n",
            "SibSp             0\n",
            "Parch             0\n",
            "Ticket            0\n",
            "Fare              1\n",
            "Cabin          1014\n",
            "Embarked          2\n",
            "dtype: int64\n"
          ],
          "name": "stdout"
        }
      ]
    },
    {
      "cell_type": "code",
      "metadata": {
        "id": "VQvC2a2Q1CQ_"
      },
      "source": [
        "encoder=LabelEncoder()\n",
        "total['Sex']=encoder.fit_transform(total['Sex'])\n",
        "total['Embarked']=encoder.fit_transform(total['Embarked'])\n",
        "total=pd.get_dummies(total,columns=['Pclass','Embarked'])"
      ],
      "execution_count": 15,
      "outputs": []
    },
    {
      "cell_type": "code",
      "metadata": {
        "id": "a9qgbFq61EiN"
      },
      "source": [
        "total['Fare_1_S']=total['Embarked_2']*total['Pclass_1']*total['Sex']\n"
      ],
      "execution_count": 16,
      "outputs": []
    },
    {
      "cell_type": "code",
      "metadata": {
        "id": "jspfzY6T1GiJ"
      },
      "source": [
        "#Extracting Title from name\n",
        "total['Title'] =total['Name'].str.extract(' ([A-Za-z]+)\\.', expand=False)\n",
        "total['Title'] =total['Title'].replace(['Lady', 'Countess','Capt', 'Col', 'Don', 'Dr', 'Major', 'Rev', 'Sir', 'Jonkheer', 'Dona'], 'Rare')\n",
        "total['Title'] =total['Title'].replace('Mlle', 'Miss')\n",
        "total['Title'] =total['Title'].replace('Ms', 'Miss')\n",
        "total['Title'] =total['Title'].replace('Mme', 'Mrs')\n",
        "#Mapping titles to numerical data\n",
        "title_mapping = {\"Mr\": 1, \"Miss\": 2, \"Mrs\": 2, \"Master\": 3, \"Rare\": 4}\n",
        "total['Title'] =total['Title'].map(title_mapping)\n",
        "total['Title'] =total['Title'].fillna(0)\n",
        "\n",
        "\n",
        "#Extracting common ages into group\n",
        "total['Age_cat'] = pd.qcut(total['Age'],q=[0, .16, .33, .49, .66, .83, 1], labels=False, precision=1)\n",
        "\n",
        "#Fare group\n",
        "def fare_category(fr): \n",
        "    if fr <= 7.91:\n",
        "        return 1\n",
        "    elif fr <= 14.454 and fr > 7.91:\n",
        "        return 2\n",
        "    elif fr <= 31 and fr > 14.454:\n",
        "        return 3\n",
        "    return 4\n",
        "total['Fare_cat'] =total['Fare'].apply(fare_category) \n",
        "\n",
        "\n",
        "#Family group\n",
        "total['FamilySize'] =total['SibSp'] + total['Parch'] + 1\n",
        "total['FamilySize_cat'] =total['FamilySize'].map(lambda x: 1 if x == 1 \n",
        "                                                            else (2 if 5 > x >= 2 \n",
        "                                                                  else (3 if 8 > x >= 5 \n",
        "                                                                       else 4 )    \n",
        "                                                                 ))   \n",
        "\n",
        "#Other columns to make \n",
        "\n"
      ],
      "execution_count": 17,
      "outputs": []
    },
    {
      "cell_type": "code",
      "metadata": {
        "id": "rP3OLKYr1LRz"
      },
      "source": [
        "total.drop(['Name','Ticket','Cabin'],axis=1,inplace=True)\n",
        "\n",
        "#Dummy variable\n",
        "total=pd.get_dummies(total,columns=['SibSp','Parch','Age_cat','Title','FamilySize','Fare_cat','FamilySize_cat'])\n",
        "\n",
        "total['Age']=total['Age'].astype(int)"
      ],
      "execution_count": 18,
      "outputs": []
    },
    {
      "cell_type": "code",
      "metadata": {
        "id": "9WepUUfY1Nwv"
      },
      "source": [
        "train=total[:len(train)]\n",
        "test=total[len(train):]\n",
        "\n",
        "\n",
        "np.random.seed(42)\n",
        "# Split into train & test set\n",
        "X_train, X_test, y_train, y_test = train_test_split(train,target, test_size = 0.25) "
      ],
      "execution_count": 19,
      "outputs": []
    },
    {
      "cell_type": "code",
      "metadata": {
        "colab": {
          "base_uri": "https://localhost:8080/"
        },
        "id": "JaDjyVNJ1QNy",
        "outputId": "52ce55bf-1142-4f99-9ea2-71abac6625a7"
      },
      "source": [
        "models = {\"KNN\": KNeighborsClassifier(),\n",
        "          \"Logistic Regression\": LogisticRegression(max_iter=10000), \n",
        "          \"Random Forest\": RandomForestClassifier(),\n",
        "          \"SVC\" : SVC(probability=True),\n",
        "          \"DecisionTreeClassifier\" : DecisionTreeClassifier(),\n",
        "          \"AdaBoostClassifier\" : AdaBoostClassifier(),\n",
        "          \"GradientBoostingClassifier\" : GradientBoostingClassifier(),\n",
        "          \"GaussianNB\" : GaussianNB(),\n",
        "          \"LinearDiscriminantAnalysis\" : LinearDiscriminantAnalysis(),\n",
        "          \"QuadraticDiscriminantAnalysis\" : QuadraticDiscriminantAnalysis()}\n",
        "def fit_and_score(models, X_train, X_test, y_train, y_test):\n",
        "\n",
        "    # Random seed for reproducible results\n",
        "    np.random.seed(42)\n",
        "    # Make a list to keep model scores\n",
        "    model_scores = {}\n",
        "    # Loop through models\n",
        "    for name, model in models.items():\n",
        "        # Fit the model to the data\n",
        "        model.fit(X_train, y_train)\n",
        "        # Predicting target values\n",
        "        y_pred = model.predict(X_test)\n",
        "        # Evaluate the model and append its score to model_scores\n",
        "        #model_scores[name] = model.score(X_test, y_test)\n",
        "        model_scores[name] = roc_auc_score(y_pred, y_test)\n",
        "    return model_scores\n",
        "model_scores = fit_and_score(models=models,\n",
        "                             X_train=X_train,\n",
        "                             X_test=X_test,\n",
        "                             y_train=y_train,\n",
        "                             y_test=y_test)\n",
        "model_scores\n"
      ],
      "execution_count": 20,
      "outputs": [
        {
          "output_type": "stream",
          "text": [
            "/usr/local/lib/python3.6/dist-packages/sklearn/discriminant_analysis.py:691: UserWarning: Variables are collinear\n",
            "  warnings.warn(\"Variables are collinear\")\n"
          ],
          "name": "stderr"
        },
        {
          "output_type": "execute_result",
          "data": {
            "text/plain": [
              "{'AdaBoostClassifier': 0.7953964194373402,\n",
              " 'DecisionTreeClassifier': 0.7674698795180724,\n",
              " 'GaussianNB': 0.674812030075188,\n",
              " 'GradientBoostingClassifier': 0.8260383100608665,\n",
              " 'KNN': 0.6374233128834356,\n",
              " 'LinearDiscriminantAnalysis': 0.8187065014428789,\n",
              " 'Logistic Regression': 0.8187065014428789,\n",
              " 'QuadraticDiscriminantAnalysis': 0.5759132420091324,\n",
              " 'Random Forest': 0.8033633033633034,\n",
              " 'SVC': 0.6051643192488262}"
            ]
          },
          "metadata": {
            "tags": []
          },
          "execution_count": 20
        }
      ]
    },
    {
      "cell_type": "code",
      "metadata": {
        "id": "-WfhMxvW1TWP"
      },
      "source": [
        "\n",
        "leaks = {\n",
        "897:1,\n",
        "899:1, \n",
        "930:1,\n",
        "932:1,\n",
        "949:1,\n",
        "987:1,\n",
        "995:1,\n",
        "998:1,\n",
        "999:1,\n",
        "1016:1,\n",
        "1047:1,\n",
        "1083:1,\n",
        "1097:1,\n",
        "1099:1,\n",
        "1103:1,\n",
        "1115:1,\n",
        "1118:1,\n",
        "1135:1,\n",
        "1143:1,\n",
        "1152:1, \n",
        "1153:1,\n",
        "1171:1,\n",
        "1182:1,\n",
        "1192:1,\n",
        "1203:1,\n",
        "1233:1,\n",
        "1250:1,\n",
        "1264:1,\n",
        "1286:1,\n",
        "935:0,\n",
        "957:0,\n",
        "972:0,\n",
        "988:0,\n",
        "1004:0,\n",
        "1006:0,\n",
        "1011:0,\n",
        "1105:0,\n",
        "1130:0,\n",
        "1138:0,\n",
        "1173:0,\n",
        "1284:0,\n",
        "}\n",
        "\n",
        "model=GradientBoostingClassifier()\n",
        "model.fit(train,target)\n",
        "sub = pd.DataFrame()\n",
        "sub['PassengerId'] = test['PassengerId']\n",
        "sub['Survived'] = model.predict(test)\n",
        "sub['Survived'] = sub['Survived'].apply(lambda x: 1 if x>0.8 else 0)\n",
        "sub['Survived'] = sub.apply(lambda r: leaks[int(r['PassengerId'])] if int(r['PassengerId']) in leaks else r['Survived'], axis=1)\n",
        "sub.to_csv('sub_titan.csv', index=False)"
      ],
      "execution_count": 21,
      "outputs": []
    },
    {
      "cell_type": "code",
      "metadata": {
        "colab": {
          "base_uri": "https://localhost:8080/",
          "height": 17
        },
        "id": "pZl4Zcua1ZOb",
        "outputId": "5c979c90-ae86-4a70-99e9-6a2a1264a1f1"
      },
      "source": [
        "from google.colab import files\n",
        "files.download('sub_titan.csv')"
      ],
      "execution_count": 22,
      "outputs": [
        {
          "output_type": "display_data",
          "data": {
            "application/javascript": [
              "\n",
              "    async function download(id, filename, size) {\n",
              "      if (!google.colab.kernel.accessAllowed) {\n",
              "        return;\n",
              "      }\n",
              "      const div = document.createElement('div');\n",
              "      const label = document.createElement('label');\n",
              "      label.textContent = `Downloading \"${filename}\": `;\n",
              "      div.appendChild(label);\n",
              "      const progress = document.createElement('progress');\n",
              "      progress.max = size;\n",
              "      div.appendChild(progress);\n",
              "      document.body.appendChild(div);\n",
              "\n",
              "      const buffers = [];\n",
              "      let downloaded = 0;\n",
              "\n",
              "      const channel = await google.colab.kernel.comms.open(id);\n",
              "      // Send a message to notify the kernel that we're ready.\n",
              "      channel.send({})\n",
              "\n",
              "      for await (const message of channel.messages) {\n",
              "        // Send a message to notify the kernel that we're ready.\n",
              "        channel.send({})\n",
              "        if (message.buffers) {\n",
              "          for (const buffer of message.buffers) {\n",
              "            buffers.push(buffer);\n",
              "            downloaded += buffer.byteLength;\n",
              "            progress.value = downloaded;\n",
              "          }\n",
              "        }\n",
              "      }\n",
              "      const blob = new Blob(buffers, {type: 'application/binary'});\n",
              "      const a = document.createElement('a');\n",
              "      a.href = window.URL.createObjectURL(blob);\n",
              "      a.download = filename;\n",
              "      div.appendChild(a);\n",
              "      a.click();\n",
              "      div.remove();\n",
              "    }\n",
              "  "
            ],
            "text/plain": [
              "<IPython.core.display.Javascript object>"
            ]
          },
          "metadata": {
            "tags": []
          }
        },
        {
          "output_type": "display_data",
          "data": {
            "application/javascript": [
              "download(\"download_44717362-0822-45e6-9f61-1d8d2a124b12\", \"sub_titan.csv\", 2839)"
            ],
            "text/plain": [
              "<IPython.core.display.Javascript object>"
            ]
          },
          "metadata": {
            "tags": []
          }
        }
      ]
    },
    {
      "cell_type": "code",
      "metadata": {
        "id": "FJjN1XRr1t35"
      },
      "source": [
        ""
      ],
      "execution_count": null,
      "outputs": []
    }
  ]
}